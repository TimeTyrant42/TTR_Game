{
 "cells": [
  {
   "cell_type": "code",
   "execution_count": 1,
   "metadata": {
    "ExecuteTime": {
     "end_time": "2020-10-18T19:43:36.699815Z",
     "start_time": "2020-10-18T19:43:36.267443Z"
    }
   },
   "outputs": [],
   "source": [
    "import pandas as pd\n",
    "import numpy as np\n",
    "import time, os\n",
    "from scipy import stats"
   ]
  },
  {
   "cell_type": "code",
   "execution_count": 2,
   "metadata": {
    "ExecuteTime": {
     "end_time": "2020-10-18T19:43:36.746355Z",
     "start_time": "2020-10-18T19:43:36.732343Z"
    }
   },
   "outputs": [],
   "source": [
    "def processData(in_data):   \n",
    "    data = in_data.copy()\n",
    "    \n",
    "    X = []\n",
    "    Y = []\n",
    "    \n",
    "    points1 = data[-1][-4]\n",
    "    points2 = data[-1][-3]\n",
    "    \n",
    "    winmult1 = points1 / points2\n",
    "    winmult2 = points2 / points1    \n",
    "    \n",
    "    for i in range(1, len(data)):\n",
    "        player = ((i+1)%2)+1\n",
    "        otherplayer = (i%2)+1\n",
    "        \n",
    "        turn = data[i, 0]\n",
    "        tracks = data[i, 1:-8]\n",
    "        prevtracks = data[i-1, 1:-8]\n",
    "        p1cards, p2cards = data[i,-8:-6], data[i,-6:-4]\n",
    "        p1cardsp, p2cardsp = data[i-1,-8:-6], data[i-1,-6:-4]\n",
    "        p1points, p2points = data[i,-4], data[i,-3]\n",
    "        p1pointsp, p2pointsp = data[i-1,-4], data[i-1,-3]\n",
    "        p1points8, p2points8 = data[min(i+8,len(data)-1),-4], data[min(i+8,len(data)-1),-3]\n",
    "        p1action, p2action = data[i,-2], data[i,-1]\n",
    "        \n",
    "        targtrack = ((prevtracks[1::2] - tracks[1::2]) != 0).astype(int)\n",
    "        if player == 1:\n",
    "            targaction = p1action\n",
    "            targcolor = ((p1cardsp - p1cards) != 0).astype(int)\n",
    "            \n",
    "            itracks = prevtracks.copy()\n",
    "            \n",
    "            pointadv = np.log1p((p1points8 - p1pointsp) * winmult1)\n",
    "            \n",
    "            X.append(np.concatenate([x.ravel() for x in \n",
    "                                 [itracks,p1cardsp,p2cardsp.sum(),p1pointsp,p2pointsp,turn]]))\n",
    "        elif player == 2:\n",
    "            targaction = p2action\n",
    "            targcolor = ((p2cardsp - p2cards) != 0).astype(int)\n",
    "            \n",
    "            itracks = prevtracks.copy()\n",
    "            itracks[1::2] = itracks[1::2] * -1\n",
    "            \n",
    "            pointadv = np.log1p((p2points8 - p2pointsp) * winmult2)\n",
    "            \n",
    "            X.append(np.concatenate([x.ravel() for x in \n",
    "                                 [itracks,p2cardsp,p1cardsp.sum(),p2pointsp,p1pointsp,turn]]))\n",
    "        \n",
    "        if targaction == 2:\n",
    "            targcolor = np.zeros(2)\n",
    "        \n",
    "        otargaction = np.zeros(2)\n",
    "        if targaction >= 1:\n",
    "            otargaction[int(targaction)-1] = 1\n",
    "        \n",
    "        Y.append(np.concatenate([x.ravel() for x in [targtrack,targcolor,otargaction,pointadv]]))\n",
    "            \n",
    "        # X is collecting and passing through data for each turn, noteable changes are setting it up so\n",
    "        # the player specific data is always in the same spot when being trained on, and adding the other\n",
    "        # players cards, as in play its not possible to know which cards the opponent has chosen.\n",
    "        \n",
    "        # for Y, the targtrack tracks which track if any was targeted by a claim, targcolor tracks which color\n",
    "        # is grabed for cards, and targaction splits the action into a one-hot of the possible choices.\n",
    "        # all choices that need to be made are split into 1s and 0s for what actions to choose, although \n",
    "        # for card color it could be done in one with -1, 1.\n",
    "        \n",
    "        # pointadv is *ideally* going to be passed through the NN and used for weighting the loss function,\n",
    "        # using similarity to the targets as a base, and the pointadv as a multiplier to give the weight to\n",
    "        # actions that give the most points over the next few turns as well as the whole game\n",
    "        \n",
    "        # considering the simplicity of the game I assume that only one turn of information is enough to \n",
    "        # conclude the best decision, without something like destination cards to increase complexity.\n",
    "        \n",
    "    return np.array(X),np.array(Y)"
   ]
  },
  {
   "cell_type": "code",
   "execution_count": 3,
   "metadata": {
    "ExecuteTime": {
     "end_time": "2020-10-18T19:43:36.870462Z",
     "start_time": "2020-10-18T19:43:36.844440Z"
    }
   },
   "outputs": [],
   "source": [
    "FX=[]; FY=[]\n",
    "\n",
    "for i in range(10):\n",
    "    data = np.load(os.getcwd()+'/pythonGame/saves/save'+str(i)+'.npy')\n",
    "    X, Y = processData(data)\n",
    "    FX.append(X)\n",
    "    FY.append(Y)\n",
    "    \n",
    "FX = np.array(np.concatenate(FX)).astype(float)\n",
    "FY = np.array(np.concatenate(FY)).astype(float)"
   ]
  },
  {
   "cell_type": "code",
   "execution_count": 4,
   "metadata": {
    "ExecuteTime": {
     "end_time": "2020-10-18T19:43:37.134189Z",
     "start_time": "2020-10-18T19:43:37.116674Z"
    }
   },
   "outputs": [],
   "source": [
    "np.save(os.getcwd()+'/pythonGame/saves/FX.npy', FX)\n",
    "np.save(os.getcwd()+'/pythonGame/saves/FY.npy', FY)"
   ]
  },
  {
   "cell_type": "code",
   "execution_count": 5,
   "metadata": {
    "ExecuteTime": {
     "end_time": "2020-10-18T19:43:38.235638Z",
     "start_time": "2020-10-18T19:43:38.217622Z"
    },
    "scrolled": false
   },
   "outputs": [
    {
     "data": {
      "text/plain": [
       "(array([[-3.,  0.,  5., ...,  0.,  0.,  0.],\n",
       "        [-3., -0.,  5., ...,  0.,  0.,  0.],\n",
       "        [-3.,  0.,  5., ...,  0.,  0.,  1.],\n",
       "        ...,\n",
       "        [-3., -1.,  5., ..., 19., 30., 14.],\n",
       "        [-3.,  1.,  5., ..., 30., 19., 15.],\n",
       "        [-3., -1.,  5., ..., 19., 40., 15.]]),\n",
       " array([[0.        , 0.        , 0.        , ..., 1.        , 0.        ,\n",
       "         2.81254077],\n",
       "        [0.        , 0.        , 0.        , ..., 1.        , 0.        ,\n",
       "         1.26851133],\n",
       "        [0.        , 0.        , 0.        , ..., 1.        , 0.        ,\n",
       "         3.13170633],\n",
       "        ...,\n",
       "        [0.        , 0.        , 0.        , ..., 1.        , 0.        ,\n",
       "         0.        ],\n",
       "        [0.        , 1.        , 0.        , ..., 0.        , 1.        ,\n",
       "         3.09343194],\n",
       "        [0.        , 0.        , 0.        , ..., 0.        , 0.        ,\n",
       "         0.        ]]),\n",
       " (300, 26),\n",
       " (300, 15))"
      ]
     },
     "execution_count": 5,
     "metadata": {},
     "output_type": "execute_result"
    }
   ],
   "source": [
    "FX,FY, FX.shape,FY.shape"
   ]
  }
 ],
 "metadata": {
  "kernelspec": {
   "display_name": "Python 3",
   "language": "python",
   "name": "python3"
  },
  "language_info": {
   "codemirror_mode": {
    "name": "ipython",
    "version": 3
   },
   "file_extension": ".py",
   "mimetype": "text/x-python",
   "name": "python",
   "nbconvert_exporter": "python",
   "pygments_lexer": "ipython3",
   "version": "3.7.6"
  },
  "varInspector": {
   "cols": {
    "lenName": 16,
    "lenType": 16,
    "lenVar": 40
   },
   "kernels_config": {
    "python": {
     "delete_cmd_postfix": "",
     "delete_cmd_prefix": "del ",
     "library": "var_list.py",
     "varRefreshCmd": "print(var_dic_list())"
    },
    "r": {
     "delete_cmd_postfix": ") ",
     "delete_cmd_prefix": "rm(",
     "library": "var_list.r",
     "varRefreshCmd": "cat(var_dic_list()) "
    }
   },
   "types_to_exclude": [
    "module",
    "function",
    "builtin_function_or_method",
    "instance",
    "_Feature"
   ],
   "window_display": false
  }
 },
 "nbformat": 4,
 "nbformat_minor": 4
}
